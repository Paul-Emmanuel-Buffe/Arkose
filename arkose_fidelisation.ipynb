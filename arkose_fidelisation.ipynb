{
 "cells": [
  {
   "cell_type": "markdown",
   "id": "c9cca0c2-31be-4fcd-b50c-721d2a3e3879",
   "metadata": {},
   "source": [
    "# Étude de Cas sur les Données Clients et Passages\n",
    "\n",
    "## 1. Introduction\n",
    "\n",
    "Dans le cadre de cette étude de cas pour Arkose&co, l'objectif est d'analyser un jeu de données représentant les passages de clients ayant cessé de fréquenter les salles d'escalade Arkose à la fin de l'année 2022. Cette analyse vise à répondre à plusieurs questions commerciales clés afin de mieux comprendre les comportements des clients et d'identifier des pistes d'amélioration pour prévenir la perte de clients à l'avenir.\n",
    "\n",
    "## Objectifs de l'étude\n",
    "\n",
    "- **Calculer la moyenne d'âge des clients** : Cette information permet de mieux comprendre la démographie des clients qui ont cessé de venir.\n",
    "- **Déterminer la proportion de passages en Tarif Réduit** : Cela aide à évaluer l'impact des tarifs sur la fidélisation des clients.\n",
    "- **Visualiser les passages par mois et par année** : Un graphe permettra de visualiser les tendances saisonnières et annuelles des passages.\n",
    "- **Suggérer des raisons possibles pour la cessation de fréquentation** : En se basant sur les données et des hypothèses, nous proposerons des explications potentielles.\n",
    "- **Identifier une métrique pour prédire les clients démissionnaires** : Nous chercherons une métrique qui pourrait aider à anticiper les départs de clients.\n",
    "- **Suggestions stratégiques pour conserver la clientèle** : Propositions d'actions concrètes basées sur les insights obtenus pour améliorer la rétention des clients.\n",
    "\n",
    "## Méthodologie\n",
    "\n",
    "Pour répondre à ces questions, nous utiliserons les fichiers de données fournis :\n",
    "- `arkose - data analyst test - clients.csv`\n",
    "- `arkose - data analyst test - passages.csv`\n",
    "\n",
    "Les outils et techniques suivants seront employés pour l'analyse :\n",
    "- **Python** : Pour des analyses avancées et des visualisations.\n",
    "- **Jupyter Notebook** : Pour documenter et exécuter le code de manière interactive.\n",
    "- **MySQL** : Pour stocker et interroger les données de manière efficace.\n",
    "- **Bibliothèques Python** :\n",
    "  - `pandas` pour la manipulation et l'analyse des données.\n",
    "  - `sqlalchemy` et `pymysql` pour l'interaction avec la base de données MySQL.\n",
    "  - `matplotlib` pour la création de visualisations.\n",
    "\n",
    "\n",
    "## 2. Collecte des Données\n",
    "Nous allons commencer par charger les fichiers .csv avec les données des clients et de passage"
   ]
  },
  {
   "cell_type": "code",
   "execution_count": null,
   "id": "ffbbb3dc-ced2-4d55-bbf4-e4fa7c3b6b6a",
   "metadata": {},
   "outputs": [],
   "source": [
    "# Cellule des imports\n",
    "import pandas as pd\n",
    "from sqlalchemy import create_engine\n",
    "from sqlalchemy import text\n",
    "from urllib.parse import quote\n",
    "import pymysql\n",
    "import matplotlib.pyplot as plt"
   ]
  },
  {
   "cell_type": "code",
   "execution_count": 126,
   "id": "8a7a24c6-38e7-4f0e-93a6-4c275d1d08ce",
   "metadata": {
    "scrolled": true
   },
   "outputs": [
    {
     "name": "stdout",
     "output_type": "stream",
     "text": [
      "premières lignes des clients : \n",
      "   ID Client Etablissement Inscription     Date Inscription Date de naissance\n",
      "0    1559573              Arkose Lille  2021-06-30 11:42:51        1999-02-09\n",
      "1    1319810              Arkose Lille  2020-07-20 19:16:16        1996-04-06\n",
      "2    1263568           Arkose Toulouse  2020-06-05 17:22:07        2004-10-04\n",
      "3    1282434              Arkose Lille  2020-06-25 16:27:43        1991-03-22\n",
      "4    1613035             Arkose Nation  2021-07-26 18:33:02        1995-02-14\n"
     ]
    }
   ],
   "source": [
    "# Import des données clients\n",
    "clients = pd.read_csv('arkose - data analyst test - clients.csv')\n",
    "\n",
    "# Affichage de premières lignes pour verification\n",
    "print(\"premières lignes des clients : \")\n",
    "print(clients.head())"
   ]
  },
  {
   "cell_type": "code",
   "execution_count": 128,
   "id": "019dbd8d-12ec-4258-8d0e-583775930021",
   "metadata": {},
   "outputs": [
    {
     "name": "stdout",
     "output_type": "stream",
     "text": [
      "premières lignes des passages: \n",
      "          Date Passage    Etablissement  ID Client Type Forfait  \\\n",
      "0  2020-06-05 19:21:35  Arkose Toulouse    1263568        Unité   \n",
      "1  2020-06-15 11:45:45  Arkose Toulouse    1268925      Mensuel   \n",
      "2  2020-06-15 16:00:18  Arkose Toulouse    1263568       Carnet   \n",
      "3  2020-06-18 10:58:13  Arkose Toulouse    1268925      Mensuel   \n",
      "4  2020-06-19 16:12:13  Arkose Toulouse    1268925      Mensuel   \n",
      "\n",
      "                   Designation  Quantite  \n",
      "0        1 séance Tarif réduit         1  \n",
      "1           Abonnement mensuel         1  \n",
      "2  Carnet de 10\\n Tarif réduit         1  \n",
      "3           Abonnement mensuel         1  \n",
      "4           Abonnement mensuel         1  \n"
     ]
    }
   ],
   "source": [
    "# Import des données des passages\n",
    "passages = pd.read_csv('arkose - data analyst test - passages.csv')\n",
    "print(\"premières lignes des passages: \")\n",
    "print(passages.head())"
   ]
  },
  {
   "cell_type": "markdown",
   "id": "e9d42a54-b84f-471f-8a33-64618d5f00fc",
   "metadata": {},
   "source": [
    "## 3. Exploration Initiale des Donnée\n",
    "### Compréhension des données\n",
    "Nous allons à présent exporer la structure de nos données."
   ]
  },
  {
   "cell_type": "code",
   "execution_count": 130,
   "id": "85682eb4-e826-4894-8c64-1a57f7ef74de",
   "metadata": {
    "scrolled": true
   },
   "outputs": [
    {
     "name": "stdout",
     "output_type": "stream",
     "text": [
      "Informations sur les clients :\n",
      "<class 'pandas.core.frame.DataFrame'>\n",
      "RangeIndex: 99 entries, 0 to 98\n",
      "Data columns (total 4 columns):\n",
      " #   Column                     Non-Null Count  Dtype \n",
      "---  ------                     --------------  ----- \n",
      " 0   ID Client                  99 non-null     int64 \n",
      " 1   Etablissement Inscription  99 non-null     object\n",
      " 2   Date Inscription           99 non-null     object\n",
      " 3   Date de naissance          99 non-null     object\n",
      "dtypes: int64(1), object(3)\n",
      "memory usage: 3.2+ KB\n",
      "None\n"
     ]
    }
   ],
   "source": [
    "# Structure du dataset clients\n",
    "print (\"Informations sur les clients :\")\n",
    "print(clients.info())"
   ]
  },
  {
   "cell_type": "code",
   "execution_count": 132,
   "id": "334fc198-5dc3-480f-8bd4-4f6539dcdbc6",
   "metadata": {
    "scrolled": true
   },
   "outputs": [
    {
     "name": "stdout",
     "output_type": "stream",
     "text": [
      "Informations sur les passages :\n",
      "<class 'pandas.core.frame.DataFrame'>\n",
      "RangeIndex: 6492 entries, 0 to 6491\n",
      "Data columns (total 6 columns):\n",
      " #   Column         Non-Null Count  Dtype \n",
      "---  ------         --------------  ----- \n",
      " 0   Date Passage   6492 non-null   object\n",
      " 1   Etablissement  6492 non-null   object\n",
      " 2   ID Client      6492 non-null   int64 \n",
      " 3   Type Forfait   6492 non-null   object\n",
      " 4   Designation    6492 non-null   object\n",
      " 5   Quantite       6492 non-null   int64 \n",
      "dtypes: int64(2), object(4)\n",
      "memory usage: 304.4+ KB\n",
      "None\n"
     ]
    }
   ],
   "source": [
    "# Structure du dataset passages\n",
    "print(\"Informations sur les passages :\")\n",
    "print (passages.info())"
   ]
  },
  {
   "cell_type": "markdown",
   "id": "0ee21f5b-46fc-4461-b72c-a5d4acfe4b65",
   "metadata": {},
   "source": [
    "## 4. Pré-Traitement des données\n",
    "### Traitement des Valeurs Manquantes\n",
    "Nous allons isoler et traiter les valeurs manquantes dans nos deux datasets"
   ]
  },
  {
   "cell_type": "code",
   "execution_count": 134,
   "id": "7d78e1f6-450d-4c85-879e-b28871144300",
   "metadata": {},
   "outputs": [
    {
     "name": "stdout",
     "output_type": "stream",
     "text": [
      "Valeurs manquantes dans les clients : \n",
      "ID Client                    0\n",
      "Etablissement Inscription    0\n",
      "Date Inscription             0\n",
      "Date de naissance            0\n",
      "dtype: int64\n",
      "\n",
      "Valeurs manquantes dans les passages :\n",
      "Date Passage     0\n",
      "Etablissement    0\n",
      "ID Client        0\n",
      "Type Forfait     0\n",
      "Designation      0\n",
      "Quantite         0\n",
      "dtype: int64\n"
     ]
    }
   ],
   "source": [
    "# Valeurs manquantes dans les clients : \n",
    "print(\"Valeurs manquantes dans les clients : \")\n",
    "print(clients.isnull().sum())\n",
    "\n",
    "# Valeurs manquantes des les passages\n",
    "print(\"\\nValeurs manquantes dans les passages :\")\n",
    "print(passages.isnull().sum())"
   ]
  },
  {
   "cell_type": "markdown",
   "id": "4c51656c-ebf5-4fe9-a7be-c5da2c9dd21c",
   "metadata": {},
   "source": [
    "Parfait, nous n'avons aucune valeur manquante"
   ]
  },
  {
   "cell_type": "markdown",
   "id": "648c6952-f211-4251-a818-a1ae68012dd3",
   "metadata": {},
   "source": [
    "### Conversion des colonnes de date\n",
    "Nous allons convertir les dates au format datetime"
   ]
  },
  {
   "cell_type": "code",
   "execution_count": 136,
   "id": "4c142504-0c81-4a7c-8ba6-e7d351486bc2",
   "metadata": {},
   "outputs": [
    {
     "name": "stdout",
     "output_type": "stream",
     "text": [
      "Types de données de clients :\n",
      "ID Client                             int64\n",
      "Etablissement Inscription            object\n",
      "Date Inscription             datetime64[ns]\n",
      "Date de naissance            datetime64[ns]\n",
      "dtype: object\n",
      "\n",
      "Types de données de passages :\n",
      "Date Passage     datetime64[ns]\n",
      "Etablissement            object\n",
      "ID Client                 int64\n",
      "Type Forfait             object\n",
      "Designation              object\n",
      "Quantite                  int64\n",
      "dtype: object\n"
     ]
    }
   ],
   "source": [
    "# Conversion en datetime dans les datasets\n",
    "clients['Date Inscription'] = pd.to_datetime(clients['Date Inscription'], errors='coerce')\n",
    "clients['Date de naissance'] = pd.to_datetime(clients['Date de naissance'], errors ='coerce')\n",
    "passages['Date Passage'] = pd.to_datetime(passages['Date Passage'], errors='coerce')\n",
    "\n",
    "# Vérification des types de données\n",
    "print(\"Types de données de clients :\")\n",
    "print(clients.dtypes)\n",
    "print(\"\\nTypes de données de passages :\")\n",
    "print(passages.dtypes)"
   ]
  },
  {
   "cell_type": "markdown",
   "id": "91956b14-0960-4403-ab0a-96fe70c668a5",
   "metadata": {},
   "source": [
    "### Traitement des éventuels doublons\n",
    "Indentification et suppression des doublons"
   ]
  },
  {
   "cell_type": "code",
   "execution_count": 138,
   "id": "cc972cbf-8a79-4fa4-81f8-22f2123be281",
   "metadata": {},
   "outputs": [
    {
     "name": "stdout",
     "output_type": "stream",
     "text": [
      "\n",
      "Nombre de doublons dans clients :\n",
      "0\n",
      "\n",
      "Nombre de doublons dans passages :\n",
      "2\n",
      "Pourcentage de doublons dans le dataset passages : 0.03 %\n"
     ]
    }
   ],
   "source": [
    "print(\"\\nNombre de doublons dans clients :\")\n",
    "print(clients.duplicated().sum())\n",
    "print(\"\\nNombre de doublons dans passages :\")\n",
    "print(passages.duplicated().sum())\n",
    "passages_duplicates = passages.duplicated().sum() / len(passages) * 100\n",
    "print(f\"Pourcentage de doublons dans le dataset passages : {passages_duplicates:.2f} %\")"
   ]
  },
  {
   "cell_type": "markdown",
   "id": "84dabef1-0245-400b-b019-501530259efb",
   "metadata": {},
   "source": [
    "Observations: \n",
    "- \"clients\" est vierge de doublons. \n",
    "- \"passages\" contients un nombre insignifiant de doublons. En tenant compte de l'ampleur des entrées du dataset (6492), nous optons pour une suppression des doublons, estimant que cela n'aura aucune incidence sur les résultats de cette étude."
   ]
  },
  {
   "cell_type": "code",
   "execution_count": 140,
   "id": "d97d9ebb-fa0e-4103-b34b-dd36093c09c1",
   "metadata": {},
   "outputs": [],
   "source": [
    "# Suppression des doublons \n",
    "passages.drop_duplicates(inplace=True)"
   ]
  },
  {
   "cell_type": "markdown",
   "id": "cd65bc05-b73d-4ba5-ac45-c8f84a106053",
   "metadata": {},
   "source": [
    "### Incohérence des données\n",
    "Nous allons tout d'abord ajouter une variable (colonne) \"age\" au dataframe \"clients\" pour dans un premier temps vérifier d'éventuelles incohérences. Nous prenons comme date de référence le 31/12/2022."
   ]
  },
  {
   "cell_type": "code",
   "execution_count": 142,
   "id": "bc0d7dff-83be-4b31-94b3-86df3148d1c3",
   "metadata": {},
   "outputs": [
    {
     "name": "stdout",
     "output_type": "stream",
     "text": [
      "  Date de naissance  age\n",
      "0        1999-02-09   23\n"
     ]
    }
   ],
   "source": [
    "# Création de la variable \"age\"\n",
    "date_reference = pd.to_datetime('2022-12-31')\n",
    "\n",
    "# Calcul de l'age des clients\n",
    "clients['age'] = ((date_reference.year - clients['Date de naissance'].dt.year) - \n",
    "                  ((date_reference.month < clients['Date de naissance'].dt.month) |\n",
    "                   ((date_reference.month == clients['Date de naissance'].dt.month) &\n",
    "                    (date_reference.day < clients['Date de naissance'].dt.day))))\n",
    "\n",
    "# Vérification de la création de la variavble 'age'\n",
    "print(clients[['Date de naissance', 'age']].sample(1))"
   ]
  },
  {
   "cell_type": "code",
   "execution_count": 144,
   "id": "eb584c7c-b2d4-4d0d-a7d6-af03a1254abf",
   "metadata": {},
   "outputs": [
    {
     "name": "stdout",
     "output_type": "stream",
     "text": [
      "Nombres d'incohérences trouvées : 0\n"
     ]
    }
   ],
   "source": [
    "# Compte des incohérences liées a 'age'\n",
    "incoherence_age = clients[(clients['age'] < 0) | (clients['age'] > 120)]\n",
    "print(f\"Nombres d'incohérences trouvées : {len(incoherence_age)}\")"
   ]
  },
  {
   "cell_type": "markdown",
   "id": "8dd2e68e-c368-4b91-af47-6b8c50c32822",
   "metadata": {},
   "source": [
    "### Bilan du Prétraitement :\n",
    "Pas d'incohérence sur les âges, deux doublons (supprimés), aucune valeur manquante. Nos avons standardisé les dates."
   ]
  },
  {
   "cell_type": "markdown",
   "id": "45909950-acc0-4787-8972-c7c4a5c956b1",
   "metadata": {},
   "source": [
    "## 5. Création de la base de donnée et des tables\n",
    "Création d'une DATABASE ARKOSE et de 2 TABLES Clients et passages"
   ]
  },
  {
   "cell_type": "code",
   "execution_count": null,
   "id": "a2e4b270-7b19-4331-bf74-a49c96162a57",
   "metadata": {
    "scrolled": true
   },
   "outputs": [
    {
     "name": "stdout",
     "output_type": "stream",
     "text": [
      "Tables créées avec succès !\n",
      "- clients : 99 lignes\n",
      "- passages : 6490 lignes\n"
     ]
    }
   ],
   "source": [
    "# Connection à au serveur SQL local (à remplacer pour vos paramètres de connection)\n",
    "connection = pymysql.connect(\n",
    "    host='localhost',\n",
    "    user= 'root',\n",
    "    password= 'cN06+#P34'\n",
    ")\n",
    "\n",
    "# Création de la base de données\n",
    "with connection.cursor() as cursor:\n",
    "    cursor.execute(\"CREATE DATABASE IF NOT EXISTS ARKOSE CHARACTER SET utf8mb4 COLLATE utf8MB4_unicode_ci\")\n",
    "    connection.close()\n",
    "\n",
    "# Connection à la base de données\n",
    "engine = create_engine('mysql+pymysql://root:%s@localhost:3306/ARKOSE' % quote('cN06+#P34'))\n",
    "\n",
    "#Import simple des données nettoyées des dataframes et création des tables\n",
    "clients.to_sql('clients', engine, if_exists='replace', index=False)\n",
    "passages.to_sql('passages', engine, if_exists='replace', index=False)\n",
    "                \n",
    "print(\"Tables créées avec succès !\")\n",
    "print(f\"- clients : {len(clients)} lignes\")\n",
    "print(f\"- passages : {len(passages)} lignes\")"
   ]
  },
  {
   "cell_type": "code",
   "execution_count": 154,
   "id": "291c9395-7fad-4b1c-9b93-07a3ec151096",
   "metadata": {
    "scrolled": true
   },
   "outputs": [
    {
     "name": "stdout",
     "output_type": "stream",
     "text": [
      "Structure de la table 'clients':\n"
     ]
    },
    {
     "data": {
      "text/html": [
       "<div>\n",
       "<style scoped>\n",
       "    .dataframe tbody tr th:only-of-type {\n",
       "        vertical-align: middle;\n",
       "    }\n",
       "\n",
       "    .dataframe tbody tr th {\n",
       "        vertical-align: top;\n",
       "    }\n",
       "\n",
       "    .dataframe thead th {\n",
       "        text-align: right;\n",
       "    }\n",
       "</style>\n",
       "<table border=\"1\" class=\"dataframe\">\n",
       "  <thead>\n",
       "    <tr style=\"text-align: right;\">\n",
       "      <th></th>\n",
       "      <th>Field</th>\n",
       "      <th>Type</th>\n",
       "      <th>Null</th>\n",
       "      <th>Key</th>\n",
       "      <th>Default</th>\n",
       "      <th>Extra</th>\n",
       "    </tr>\n",
       "  </thead>\n",
       "  <tbody>\n",
       "    <tr>\n",
       "      <th>0</th>\n",
       "      <td>ID Client</td>\n",
       "      <td>bigint</td>\n",
       "      <td>YES</td>\n",
       "      <td></td>\n",
       "      <td>None</td>\n",
       "      <td></td>\n",
       "    </tr>\n",
       "    <tr>\n",
       "      <th>1</th>\n",
       "      <td>Etablissement Inscription</td>\n",
       "      <td>text</td>\n",
       "      <td>YES</td>\n",
       "      <td></td>\n",
       "      <td>None</td>\n",
       "      <td></td>\n",
       "    </tr>\n",
       "    <tr>\n",
       "      <th>2</th>\n",
       "      <td>Date Inscription</td>\n",
       "      <td>datetime</td>\n",
       "      <td>YES</td>\n",
       "      <td></td>\n",
       "      <td>None</td>\n",
       "      <td></td>\n",
       "    </tr>\n",
       "    <tr>\n",
       "      <th>3</th>\n",
       "      <td>Date de naissance</td>\n",
       "      <td>datetime</td>\n",
       "      <td>YES</td>\n",
       "      <td></td>\n",
       "      <td>None</td>\n",
       "      <td></td>\n",
       "    </tr>\n",
       "    <tr>\n",
       "      <th>4</th>\n",
       "      <td>age</td>\n",
       "      <td>int</td>\n",
       "      <td>YES</td>\n",
       "      <td></td>\n",
       "      <td>None</td>\n",
       "      <td></td>\n",
       "    </tr>\n",
       "  </tbody>\n",
       "</table>\n",
       "</div>"
      ],
      "text/plain": [
       "                       Field      Type Null Key Default Extra\n",
       "0                  ID Client    bigint  YES        None      \n",
       "1  Etablissement Inscription      text  YES        None      \n",
       "2           Date Inscription  datetime  YES        None      \n",
       "3          Date de naissance  datetime  YES        None      \n",
       "4                        age       int  YES        None      "
      ]
     },
     "metadata": {},
     "output_type": "display_data"
    },
    {
     "name": "stdout",
     "output_type": "stream",
     "text": [
      "Structure de la table 'passages' : \n"
     ]
    },
    {
     "data": {
      "text/html": [
       "<div>\n",
       "<style scoped>\n",
       "    .dataframe tbody tr th:only-of-type {\n",
       "        vertical-align: middle;\n",
       "    }\n",
       "\n",
       "    .dataframe tbody tr th {\n",
       "        vertical-align: top;\n",
       "    }\n",
       "\n",
       "    .dataframe thead th {\n",
       "        text-align: right;\n",
       "    }\n",
       "</style>\n",
       "<table border=\"1\" class=\"dataframe\">\n",
       "  <thead>\n",
       "    <tr style=\"text-align: right;\">\n",
       "      <th></th>\n",
       "      <th>Field</th>\n",
       "      <th>Type</th>\n",
       "      <th>Null</th>\n",
       "      <th>Key</th>\n",
       "      <th>Default</th>\n",
       "      <th>Extra</th>\n",
       "    </tr>\n",
       "  </thead>\n",
       "  <tbody>\n",
       "    <tr>\n",
       "      <th>0</th>\n",
       "      <td>Date Passage</td>\n",
       "      <td>datetime</td>\n",
       "      <td>YES</td>\n",
       "      <td></td>\n",
       "      <td>None</td>\n",
       "      <td></td>\n",
       "    </tr>\n",
       "    <tr>\n",
       "      <th>1</th>\n",
       "      <td>Etablissement</td>\n",
       "      <td>text</td>\n",
       "      <td>YES</td>\n",
       "      <td></td>\n",
       "      <td>None</td>\n",
       "      <td></td>\n",
       "    </tr>\n",
       "    <tr>\n",
       "      <th>2</th>\n",
       "      <td>ID Client</td>\n",
       "      <td>bigint</td>\n",
       "      <td>YES</td>\n",
       "      <td></td>\n",
       "      <td>None</td>\n",
       "      <td></td>\n",
       "    </tr>\n",
       "    <tr>\n",
       "      <th>3</th>\n",
       "      <td>Type Forfait</td>\n",
       "      <td>text</td>\n",
       "      <td>YES</td>\n",
       "      <td></td>\n",
       "      <td>None</td>\n",
       "      <td></td>\n",
       "    </tr>\n",
       "    <tr>\n",
       "      <th>4</th>\n",
       "      <td>Designation</td>\n",
       "      <td>text</td>\n",
       "      <td>YES</td>\n",
       "      <td></td>\n",
       "      <td>None</td>\n",
       "      <td></td>\n",
       "    </tr>\n",
       "    <tr>\n",
       "      <th>5</th>\n",
       "      <td>Quantite</td>\n",
       "      <td>bigint</td>\n",
       "      <td>YES</td>\n",
       "      <td></td>\n",
       "      <td>None</td>\n",
       "      <td></td>\n",
       "    </tr>\n",
       "  </tbody>\n",
       "</table>\n",
       "</div>"
      ],
      "text/plain": [
       "           Field      Type Null Key Default Extra\n",
       "0   Date Passage  datetime  YES        None      \n",
       "1  Etablissement      text  YES        None      \n",
       "2      ID Client    bigint  YES        None      \n",
       "3   Type Forfait      text  YES        None      \n",
       "4    Designation      text  YES        None      \n",
       "5       Quantite    bigint  YES        None      "
      ]
     },
     "metadata": {},
     "output_type": "display_data"
    }
   ],
   "source": [
    "print(\"Structure de la table 'clients':\")\n",
    "display(pd.read_sql(\"DESCRIBE clients\", engine))\n",
    "\n",
    "print(\"Structure de la table 'passages' : \")\n",
    "display(pd.read_sql(\"DESCRIBE passages\", engine))"
   ]
  },
  {
   "cell_type": "code",
   "execution_count": 122,
   "id": "336e5779-c0a0-4e40-ba61-6d0b35ae31b0",
   "metadata": {
    "scrolled": true
   },
   "outputs": [
    {
     "ename": "TypeError",
     "evalue": "'Text' object is not callable",
     "output_type": "error",
     "traceback": [
      "\u001b[1;31m---------------------------------------------------------------------------\u001b[0m",
      "\u001b[1;31mTypeError\u001b[0m                                 Traceback (most recent call last)",
      "Cell \u001b[1;32mIn[122], line 2\u001b[0m\n\u001b[0;32m      1\u001b[0m \u001b[38;5;66;03m# Afficher les 5 premiers clients\u001b[39;00m\n\u001b[1;32m----> 2\u001b[0m display(pd\u001b[38;5;241m.\u001b[39mread_sql(text(\u001b[38;5;124m\"\u001b[39m\u001b[38;5;124mSELECT * FROM clients LIMIT 3\u001b[39m\u001b[38;5;124m\"\u001b[39m), engine))\n\u001b[0;32m      4\u001b[0m \u001b[38;5;66;03m# Afficher les 5 premiers passages\u001b[39;00m\n\u001b[0;32m      5\u001b[0m display(pd\u001b[38;5;241m.\u001b[39mread_sql(text(\u001b[38;5;124m\"\u001b[39m\u001b[38;5;124mSELECT * FROM passages LIMIT 3\u001b[39m\u001b[38;5;124m\"\u001b[39m), engine))\n",
      "\u001b[1;31mTypeError\u001b[0m: 'Text' object is not callable"
     ]
    }
   ],
   "source": [
    "# Afficher les 5 premiers clients\n",
    "display(pd.read_sql(text(\"SELECT * FROM clients LIMIT 3\"), engine))\n",
    "\n",
    "# Afficher les 5 premiers passages\n",
    "display(pd.read_sql(text(\"SELECT * FROM passages LIMIT 3\"), engine))"
   ]
  },
  {
   "cell_type": "markdown",
   "id": "f51125c0-4512-478e-9ddb-ec6428d55b4b",
   "metadata": {},
   "source": [
    "## 6.Analyse Exploratoire des Données\n",
    "### Calcul de la moyenne d'âge des clients"
   ]
  },
  {
   "cell_type": "code",
   "execution_count": 112,
   "id": "bbac8251-555f-493b-afb8-45a97293c19c",
   "metadata": {
    "scrolled": true
   },
   "outputs": [
    {
     "ename": "TypeError",
     "evalue": "'Text' object is not callable",
     "output_type": "error",
     "traceback": [
      "\u001b[1;31m---------------------------------------------------------------------------\u001b[0m",
      "\u001b[1;31mTypeError\u001b[0m                                 Traceback (most recent call last)",
      "Cell \u001b[1;32mIn[112], line 2\u001b[0m\n\u001b[0;32m      1\u001b[0m \u001b[38;5;28;01mwith\u001b[39;00m engine\u001b[38;5;241m.\u001b[39mconnect() \u001b[38;5;28;01mas\u001b[39;00m conn:\n\u001b[1;32m----> 2\u001b[0m     result \u001b[38;5;241m=\u001b[39m conn\u001b[38;5;241m.\u001b[39mexecute(text(\u001b[38;5;124m\"\"\"\u001b[39m\n\u001b[0;32m      3\u001b[0m \u001b[38;5;124m        SELECT ROUND(AVG(age)) AS age_moyen\u001b[39m\n\u001b[0;32m      4\u001b[0m \u001b[38;5;124m        FROM clients\u001b[39m\n\u001b[0;32m      5\u001b[0m \u001b[38;5;124m        WHERE age IS NOT NULL\u001b[39m\n\u001b[0;32m      6\u001b[0m \u001b[38;5;124m    \u001b[39m\u001b[38;5;124m\"\"\"\u001b[39m))\n\u001b[0;32m      8\u001b[0m     age_moyen \u001b[38;5;241m=\u001b[39m result\u001b[38;5;241m.\u001b[39mscalar()\n\u001b[0;32m     10\u001b[0m \u001b[38;5;28mprint\u001b[39m(\u001b[38;5;124mf\u001b[39m\u001b[38;5;124m\"\u001b[39m\u001b[38;5;124mAge moyen des clients: \u001b[39m\u001b[38;5;132;01m{\u001b[39;00mage_moyen\u001b[38;5;132;01m}\u001b[39;00m\u001b[38;5;124m ans\u001b[39m\u001b[38;5;124m\"\u001b[39m)\n",
      "\u001b[1;31mTypeError\u001b[0m: 'Text' object is not callable"
     ]
    }
   ],
   "source": [
    "with engine.connect() as conn:\n",
    "    result = conn.execute(text(\"\"\"\n",
    "        SELECT ROUND(AVG(age)) AS age_moyen\n",
    "        FROM clients\n",
    "        WHERE age IS NOT NULL\n",
    "    \"\"\"))\n",
    "\n",
    "    age_moyen = result.scalar()\n",
    "\n",
    "print(f\"Age moyen des clients: {age_moyen} ans\")\n"
   ]
  },
  {
   "cell_type": "markdown",
   "id": "8c4c6091-c640-49e2-b309-333484231020",
   "metadata": {},
   "source": [
    "### Calcul de la proportion de passages en Tarif Réduit"
   ]
  },
  {
   "cell_type": "code",
   "execution_count": 100,
   "id": "77c4762d-7259-4268-89c9-e4f8481f9733",
   "metadata": {
    "scrolled": true
   },
   "outputs": [
    {
     "name": "stdout",
     "output_type": "stream",
     "text": [
      "Proportion de passages en Tarif  Réduit : 63.57%\n"
     ]
    }
   ],
   "source": [
    "# Pour calculer la proportion en \"Tarif Réduit\" il va filtrer \"réduit\" dans les strings contenues dans \"Designation\"\n",
    "# On prendra en compte les différentes cassses (Réduit, Reduit, réduit, reduit)\n",
    "\n",
    "with engine.connect() as conn:\n",
    "    result = conn.execute(text(\"\"\"\n",
    "               SELECT\n",
    "                 ROUND(\n",
    "                     SUM(\n",
    "                      CASE\n",
    "                         WHEN LOWER(REPLACE(Designation,'é', 'e')) LIKE '%reduit'\n",
    "                         THEN 1 ELSE 0\n",
    "                      END\n",
    "                 ) *100.0 /COUNT(*),\n",
    "                  2\n",
    "            ) AS prop_tarif_reduit\n",
    "            FROM passages\n",
    "            WHERE Designation IS NOT NULL;\n",
    "    \"\"\"))\n",
    "\n",
    "proportion_tarif_reduit = result.scalar()\n",
    "\n",
    "print(f\"Proportion de passages en Tarif  Réduit : {proportion_tarif_reduit:.2f}%\")\n",
    "                         "
   ]
  },
  {
   "cell_type": "markdown",
   "id": "8c950b80-9329-45e5-b3d8-009854b02f02",
   "metadata": {},
   "source": [
    "### Courbes des fréquentations"
   ]
  },
  {
   "cell_type": "code",
   "execution_count": 102,
   "id": "fb2d8b79-f3dc-4375-ac7a-3a137f3faa11",
   "metadata": {},
   "outputs": [
    {
     "data": {
      "image/png": "[encoded data removed]",
      "text/plain": [
       "<Figure size 1000x500 with 1 Axes>"
      ]
     },
     "metadata": {},
     "output_type": "display_data"
    }
   ],
   "source": [
    "import matplotlib.pyplot as plt\n",
    "import pandas as pd\n",
    "from sqlalchemy import text\n",
    "\n",
    "#  Récupérer les données\n",
    "df = pd.read_sql(text(\"\"\"\n",
    "    SELECT \n",
    "        YEAR(`Date Passage`) AS annee,\n",
    "        MONTH(`Date Passage`) AS mois,\n",
    "        COUNT(*) AS passages\n",
    "    FROM passages\n",
    "    GROUP BY annee, mois\n",
    "    ORDER BY annee, mois\n",
    "\"\"\"), engine)\n",
    "\n",
    "#  Préparer les mois \n",
    "mois_fr = ['Jan', 'Fév', 'Mar', 'Avr', 'Mai', 'Juin', \n",
    "           'Juil', 'Août', 'Sep', 'Oct', 'Nov', 'Déc']\n",
    "\n",
    "# Créer le graphique\n",
    "plt.figure(figsize=(10, 5))\n",
    "\n",
    "for annee in df['annee'].unique():\n",
    "    data = df[df['annee'] == annee]\n",
    "    plt.plot(data['mois'], data['passages'], \n",
    "             marker='o', \n",
    "             label=annee, \n",
    "             linewidth=2)\n",
    "\n",
    "# Affichage perso\n",
    "plt.title('Fréquentation Mensuelle par Année', pad=20, fontweight='bold')\n",
    "plt.xlabel('Mois', labelpad=10)\n",
    "plt.ylabel('Nombre de Passages', labelpad=10)\n",
    "plt.xticks(range(1, 13), mois_fr)\n",
    "plt.grid(axis='y', linestyle='--', alpha=0.4)\n",
    "plt.legend(title='Année', frameon=False)\n",
    "\n",
    "plt.tight_layout()  \n",
    "plt.show()"
   ]
  },
  {
   "cell_type": "markdown",
   "id": "d836017e-6048-4875-aeb2-7d59951fa03e",
   "metadata": {
    "jp-MarkdownHeadingCollapsed": true
   },
   "source": [
    "#### Observation des courbes : \n",
    "Les années 2020 et 2021 sont un reflet des periodes d'entrées et sorties de confinenement COVID:\n",
    "- Hausse des fréquentations en juin 2020 (sortie du premier confinement), puis chute de septembre à octobre (début du second confinement)\n",
    "- de fin octobre2020 à début février 2021: Fréquentation inexistante, probablement en   raison du second confinement et du couvre feu strict.\n",
    "- Reprise, mais atonie des fréquentations dû au couvre feu strict.\n",
    "- Fin du couvre feu strict=> reprise des fréquentations en flêche.\n",
    "- Cette montée se casse en novembre 2021, et les courbes montrent une baisse des fréquentation jusqu'en fin décembre 2022. "
   ]
  },
  {
   "cell_type": "markdown",
   "id": "561cc79e-02b5-4439-a35a-2c7ea907c765",
   "metadata": {},
   "source": [
    "### Recherche complémentaire: Répartition des dates d'inscriptions des clients"
   ]
  },
  {
   "cell_type": "code",
   "execution_count": 104,
   "id": "625c8ed1-7341-4e22-9c87-99b989a62fb6",
   "metadata": {},
   "outputs": [
    {
     "name": "stdout",
     "output_type": "stream",
     "text": [
      "Répartition des clients démissionnaires par année d'inscription :\n",
      "annee_inscription\n",
      "2020    39\n",
      "2021    57\n",
      "2022     3\n",
      "Name: count, dtype: int64\n"
     ]
    }
   ],
   "source": [
    "query = \"\"\"\n",
    "SELECT `ID Client`, `Date Inscription`\n",
    "FROM clients\n",
    "WHERE `Date Inscription` IS NOT NULL\n",
    "\"\"\"\n",
    "\n",
    "df = pd.read_sql(text(query), engine)\n",
    "\n",
    "# Conversion des dates en format pandas\n",
    "df['Date Inscription'] = pd.to_datetime(df['Date Inscription'])\n",
    "\n",
    "#  Extraction de l'année d'inscription\n",
    "df['annee_inscription'] = df['Date Inscription'].dt.year\n",
    "\n",
    "# Comptage des clients par année d'inscription\n",
    "repartition = df['annee_inscription'].value_counts().sort_index()\n",
    "\n",
    "# Définir un intervalle d'années pour l'affichage\n",
    "annees_completes = range(df['annee_inscription'].min(), df['annee_inscription'].max() + 1)\n",
    "\n",
    "# ompléter la répartition pour chaque année de l'intervalle, même celles avec 0\n",
    "repartition_complete = repartition.reindex(annees_completes, fill_value=0)\n",
    "\n",
    "print(\"Répartition des clients démissionnaires par année d'inscription :\")\n",
    "print(repartition_complete)"
   ]
  },
  {
   "cell_type": "markdown",
   "id": "299a71d7-d7cb-40b9-8506-fc89490fcb4a",
   "metadata": {
    "jp-MarkdownHeadingCollapsed": true
   },
   "source": [
    "Observations: \n",
    "-39/99 se sont inscrits en 2020\n",
    "-57/99 en 2021\n",
    "-3/99 en 2022\n",
    "Les données révèlent que les clients démissionnaires concernés se sont tous inscrits dans les périodes post restrictions COVID.\n",
    "\n",
    "### Conclusions (pour répondre au point 4 du sujet) :\n",
    "D'après notre étude, il apparaît que nous avons à faire à des clients ayant effectué leur inscription durant une période exceptionnelle, marquée par la pandémie de Covid-19. Les spécificités de cette période — telles que le confinement, le manque d'activités et l'isolement — ont indéniablement contribué à un désir accru de reprendre une activité physique, en particulier dans les agglomérations, zones d'implantation des salles ARKOSE.\n",
    "\n",
    "De plus environ 64 % de la clientèle est en tarif réduit (étudiants, chômeurs)  => Clientèle potentielement volatile.\n",
    "\n",
    "Il est fort probable que cette clientèle, une fois la motivation initiale dissipée, n'ait pas réussi ou n'ait pas souhaité maintenir une routine régulière de fréquentation. Ce phénomène peut être mis en parallèle avec les bonnes résolutions de début d'année, où les engagements prennent souvent une dimension plus éphémère. En somme, la situation exceptionnelle du Covid explique en grande partie l'évolution des courbes observées, tant en termes de pics d'inscription que de désengagement par la suite."
   ]
  },
  {
   "cell_type": "markdown",
   "id": "7bbb62f3-3d10-4bd9-abd2-ee52327b989d",
   "metadata": {},
   "source": [
    "### 7. Analyse des \"Clients de la Motivation Éphémère\"\n",
    "\n",
    "Pour affiner nos études et proposer des recommandations pertinentes, nous devons approfondir nos recherches.\n",
    "\n",
    "### 7.1 Étude de la répartition de la précocité des abandons\n",
    "\n",
    "Ce graphique illustre la répartition des clients en fonction de leur fidélité, mesurée par le nombre de jours écoulés entre leur inscription et leur dernier passage. La majorité des clients continuent de fréquenter la salle pendant plus de 18 mois, tandis qu'une minorité cesse de venir après 3 mois."
   ]
  },
  {
   "cell_type": "code",
   "execution_count": 106,
   "id": "3be068e0-2c14-49ad-97d4-929c28e5759b",
   "metadata": {},
   "outputs": [
    {
     "name": "stdout",
     "output_type": "stream",
     "text": [
      "Répartition des données:\n",
      "Tranche\n",
      "≤3 mois        0\n",
      "3-6 mois       0\n",
      "6-9 mois       6\n",
      "9-12 mois     12\n",
      "12-18 mois    44\n",
      ">18 mois      37\n",
      "Name: count, dtype: int64\n"
     ]
    },
    {
     "data": {
      "image/png": "[encoded data removed]",
      "text/plain": [
       "<Figure size 700x700 with 1 Axes>"
      ]
     },
     "metadata": {},
     "output_type": "display_data"
    }
   ],
   "source": [
    "from sqlalchemy import text\n",
    "\n",
    "## 1. Requête SQL\n",
    "with engine.connect() as conn:\n",
    "    df_result = pd.read_sql(text(\"\"\"\n",
    "        SELECT\n",
    "            c.`ID Client`,\n",
    "            c.`Date Inscription`,\n",
    "            MAX(p.`Date Passage`) AS Dernier_Passage,\n",
    "            DATEDIFF(MAX(p.`Date Passage`), c.`Date Inscription`) AS Jours_absence\n",
    "        FROM clients c\n",
    "        JOIN passages p ON c.`ID Client` = p.`ID Client`\n",
    "        GROUP BY c.`ID Client`, c.`Date Inscription`\n",
    "    \"\"\"), conn)\n",
    "\n",
    "## 2. Préparation des données\n",
    "bins = [0, 90, 180, 270, 360, 540, float('inf')]\n",
    "labels = ['≤3 mois', '3-6 mois', '6-9 mois', '9-12 mois', '12-18 mois', '>18 mois']\n",
    "df_result['Tranche'] = pd.cut(df_result['Jours_absence'], bins=bins, labels=labels, right=False)\n",
    "\n",
    "# Vérification des données\n",
    "print(\"Répartition des données:\")\n",
    "print(df_result['Tranche'].value_counts().sort_index())\n",
    "\n",
    "## 3. Création du graphique\n",
    "plt.figure(figsize=(7, 7))  # Taille intermédiaire pour meilleur équilibre\n",
    "\n",
    "# Calcul des pourcentages\n",
    "pourcentages = df_result['Tranche'].value_counts(normalize=True).sort_index() * 100\n",
    "\n",
    "# Création du pie chart avec tous les éléments\n",
    "patches, texts, autotexts = plt.pie(\n",
    "    pourcentages,\n",
    "    colors=plt.cm.Pastel1(range(len(labels))),\n",
    "    startangle=90,\n",
    "    pctdistance=0.8,\n",
    "    wedgeprops={'linewidth': 1, 'edgecolor': 'white'},\n",
    "    autopct=lambda p: f'{p:.1f}%' if p >= 5 else ''  # Masque les petits pourcentages\n",
    ")\n",
    "\n",
    "# Amélioration de l'affichage des pourcentages\n",
    "for text in autotexts:\n",
    "    text.set_color('black')\n",
    "    text.set_fontsize(9)\n",
    "    text.set_fontweight('bold')\n",
    "\n",
    "# Légende corrigée (sans avertissement)\n",
    "plt.legend(\n",
    "    handles=patches,\n",
    "    labels=[f\"{l} ({p:.1f}%)\" for l, p in zip(pourcentages.index, pourcentages)],\n",
    "    title=\"Périodes depuis l'inscription\",\n",
    "    loc='center left',\n",
    "    bbox_to_anchor=(1, 0.5),\n",
    "    frameon=False\n",
    ")\n",
    "\n",
    "plt.title(\"Durée de la fréquentation (depuis la date d'inscription -> dernier passage)\", pad=20, fontsize=12)\n",
    "plt.tight_layout()\n",
    "plt.show()\n"
   ]
  },
  {
   "cell_type": "markdown",
   "id": "d8b27e98-2f87-40fd-880b-48b8cc9b1157",
   "metadata": {},
   "source": [
    "### 7.3 Étude de la moyenne de fréquentation sur les 12 mois précédant la désertion des clients concernés\n",
    "\n",
    "**Pour répondre au point 5 du sujet, nous pensons que la métrique à considérer pour identifier la clientèle démissionnaire est la fréquentation des clients sur les mois précédant leurs départs.**\n",
    "\n",
    "En étudiant la courbe de fréquentation moyenne par client sur les 12 derniers mois, on observe qu'après un pic autour de 5 visites par mois (M-5), cette dernière diminue de manière inexorable sur les 7 derniers mois. Par rapport au point haut, le nombre de visites moyen par mois est presque divisé par deux le mois précédant le départ des clients (M-12). De plus, leurs départs se produisent après une baisse constante sur les 3 derniers mois, avec une chute notable de 3,42 visites (M-10) à 2,65 visites (M-12)."
   ]
  },
  {
   "cell_type": "code",
   "execution_count": 108,
   "id": "b8b2fa85-737a-486c-a2e9-f6c3326bbdb0",
   "metadata": {},
   "outputs": [
    {
     "ename": "TypeError",
     "evalue": "'Text' object is not callable",
     "output_type": "error",
     "traceback": [
      "\u001b[1;31m---------------------------------------------------------------------------\u001b[0m",
      "\u001b[1;31mTypeError\u001b[0m                                 Traceback (most recent call last)",
      "Cell \u001b[1;32mIn[108], line 2\u001b[0m\n\u001b[0;32m      1\u001b[0m \u001b[38;5;66;03m# Chargement des données depuis la base\u001b[39;00m\n\u001b[1;32m----> 2\u001b[0m query \u001b[38;5;241m=\u001b[39m text(\u001b[38;5;124m\"\u001b[39m\u001b[38;5;124mSELECT `Date Passage`, `ID Client` FROM passages\u001b[39m\u001b[38;5;124m\"\u001b[39m)\n\u001b[0;32m      3\u001b[0m passages_df \u001b[38;5;241m=\u001b[39m pd\u001b[38;5;241m.\u001b[39mread_sql(query, engine)\n\u001b[0;32m      5\u001b[0m \u001b[38;5;66;03m# Conversion des dates\u001b[39;00m\n",
      "\u001b[1;31mTypeError\u001b[0m: 'Text' object is not callable"
     ]
    }
   ],
   "source": [
    "# Chargement des données depuis la base\n",
    "query = text(\"SELECT `Date Passage`, `ID Client` FROM passages\")\n",
    "passages_df = pd.read_sql(query, engine)\n",
    "\n",
    "# Conversion des dates\n",
    "passages_df['Date Passage'] = pd.to_datetime(passages_df['Date Passage'])\n",
    "\n",
    "# Calcul des fréquentations mensuelles par client\n",
    "def calculate_monthly_visits(df):\n",
    "    # Trouver la dernière date de passage pour chaque client\n",
    "    last_visits = df.groupby('ID Client')['Date Passage'].max().reset_index()\n",
    "    \n",
    "    # Initialiser le DataFrame résultat\n",
    "    result = pd.DataFrame({'ID Client': df['ID Client'].unique()})\n",
    "    \n",
    "    # Initialiser les colonnes des mois avec des zéros\n",
    "    for i in range(1, 13):\n",
    "        result[f'mois_{i}'] = 0\n",
    "    \n",
    "    # Pour chaque client\n",
    "    for index, row in last_visits.iterrows():\n",
    "        client_id = row['ID Client']\n",
    "        last_date = row['Date Passage']\n",
    "        \n",
    "        # Passages de ce client uniquement\n",
    "        client_passages = df[df['ID Client'] == client_id]\n",
    "        \n",
    "        # Pour chaque mois en remontant à partir de la dernière visite\n",
    "        for month_offset in range(12):\n",
    "            # Calculer la période du mois\n",
    "            end_month = last_date.replace(day=1) - pd.DateOffset(months=month_offset)\n",
    "            end_date = end_month + pd.DateOffset(months=1) - pd.DateOffset(days=1)\n",
    "            start_date = end_month\n",
    "            \n",
    "            # Compter les passages dans ce mois\n",
    "            month_visits = client_passages[\n",
    "                (client_passages['Date Passage'] >= start_date) & \n",
    "                (client_passages['Date Passage'] <= end_date)\n",
    "            ]\n",
    "            \n",
    "            # Stocker le résultat (mois_12 = plus récent)\n",
    "            month_col = f'mois_{12 - month_offset}'\n",
    "            result.loc[result['ID Client'] == client_id, month_col] = len(month_visits)\n",
    "    \n",
    "    return result\n",
    "\n",
    "# Exécuter le calcul\n",
    "frequentations_mensuelles = calculate_monthly_visits(passages_df)\n",
    "\n",
    "# Calcul de la fréquentation moyenne par mois\n",
    "moyenne_par_mois = []\n",
    "labels_mois = []\n",
    "\n",
    "for i in range(1, 13):\n",
    "    mois_col = f'mois_{i}'\n",
    "    moyenne = frequentations_mensuelles[mois_col].mean()\n",
    "    moyenne_par_mois.append(moyenne)\n",
    "    labels_mois.append(f\"M-{i}\")  # M-12 est le plus récent, M-1 est le plus ancien\n",
    "\n",
    "# Création de la courbe de fréquentation moyenne\n",
    "plt.figure(figsize=(12, 6))\n",
    "\n",
    "# Tracé de la courbe principale\n",
    "plt.plot(labels_mois, moyenne_par_mois, 'o-', linewidth=2, markersize=8, color='#1f77b4')\n",
    "\n",
    "# Affichage\n",
    "plt.fill_between(labels_mois, moyenne_par_mois, alpha=0.2, color='#1f77b4')\n",
    "\n",
    "plt.title('Évolution de la fréquentation moyenne par mois sur les 12 derniers mois', fontsize=14)\n",
    "plt.xlabel('Mois relatif (M-1 = plus ancien, M-12 = plus récent)', fontsize=12)\n",
    "plt.ylabel('Nombre moyen de visites', fontsize=12)\n",
    "plt.grid(True, linestyle='--', alpha=0.7)\n",
    "\n",
    "for i, v in enumerate(moyenne_par_mois):\n",
    "    plt.text(i, v + 0.1, f\"{v:.2f}\", ha='center')\n",
    "\n",
    "plt.tight_layout()\n",
    "plt.show()\n",
    "\n",
    "# Afficher également les statistiques numériques\n",
    "statistiques = pd.DataFrame({\n",
    "    'Mois': labels_mois,\n",
    "    'Moyenne': moyenne_par_mois,\n",
    "})\n"
   ]
  },
  {
   "cell_type": "markdown",
   "id": "0e2e65d6-1c23-420a-be0a-65f1e8711411",
   "metadata": {},
   "source": [
    "### Conclusion\n",
    "\n",
    "D'après nos observations, les clients ne désertent pas complètement les salles Arkose avant 6 mois. En outre, une grande majorité (environ 80 %) ne cesse de fréquenter les salles qu'après 12 mois ou plus. Ces constatations montrent que le phénomène de désertion chez Arkose diffère du \"syndrome des salles de musculation\", où les clients abandonnent souvent dans les 3 mois suivant leur inscription.\n",
    "\n",
    "De plus, l'indicateur clé à surveiller est une baisse de la fréquentation sur plus de deux mois consécutifs. Cette tendance est souvent un signe précurseur d'un désengagement progressif, qui peut mener à une désertion définitive si elle n'est pas adressée.\n",
    "\n",
    "Cette analyse met en lumière une fidélité plus durable des clients d'Arkose, ce qui suggère que les stratégies de rétention doivent être adaptées en conséquence. Plutôt que de se concentrer uniquement sur les premiers mois, il serait pertinent de renforcer les actions de fidélisation sur le long terme, notamment après les 6 premiers mois, pour maintenir l'engagement des clients et prévenir les départs ultérieurs.\n",
    "\n",
    "Ces insights peuvent guider des initiatives ciblées, telles que des offres spéciales, des programmes de fidélité ou des communications personnalisées, pour soutenir la rétention des clients sur une période prolongée.\n"
   ]
  },
  {
   "cell_type": "markdown",
   "id": "89edc5dd-a1e2-41a2-9bf4-fe55a8b8d471",
   "metadata": {
    "jp-MarkdownHeadingCollapsed": true
   },
   "source": [
    "### 8. Nos recommandations stratégiques\n",
    "\n",
    "Nous allons à présent nous penchez sur la composition de la clientèle et son comportement de consommation.\n",
    "\n",
    "### 8.1 Analyse des types de forfaits\n",
    "\n",
    "La forte proportion du mensuel (2/3 des abonnements) indique une préférence marquée pour des engagements courts\n",
    "\n",
    "L'annuel représente 1/4 des choix, montrant qu'une partie significative des clients privilégie les économies\n",
    "\n",
    "Le carnet reste une option niche"
   ]
  },
  {
   "cell_type": "code",
   "execution_count": 49,
   "id": "34fe3b52-8f27-4ca2-a982-f72363c502ef",
   "metadata": {
    "scrolled": true
   },
   "outputs": [
    {
     "name": "stdout",
     "output_type": "stream",
     "text": [
      "Répartition des types de forfaits :\n",
      "Type Forfait  nombre_utilisations  Proportion\n",
      "     Mensuel                 4316   66.481824\n",
      "      Annuel                 1622   24.984596\n",
      "      Carnet                  456    7.024030\n",
      "       Unité                   98    1.509550\n"
     ]
    },
    {
     "data": {
      "image/png": "[encoded data removed]",
      "text/plain": [
       "<Figure size 500x500 with 1 Axes>"
      ]
     },
     "metadata": {},
     "output_type": "display_data"
    }
   ],
   "source": [
    "query = \"\"\"\n",
    "SELECT \n",
    "    `Type Forfait`, \n",
    "    COUNT(*) AS nombre_utilisations\n",
    "FROM \n",
    "    passages\n",
    "GROUP BY \n",
    "    `Type Forfait`\n",
    "ORDER BY \n",
    "    nombre_utilisations DESC;\n",
    "\"\"\"\n",
    "\n",
    "# Charger les résultats \n",
    "df = pd.read_sql(query, engine)\n",
    "\n",
    "# Calculer la proportion de chaque type d'abonnement\n",
    "df['Proportion'] = (df['nombre_utilisations'] / df['nombre_utilisations'].sum()) * 100\n",
    "\n",
    "# Afficher les données sous forme de tableau\n",
    "print(\"Répartition des types de forfaits :\")\n",
    "print(df[['Type Forfait', 'nombre_utilisations', 'Proportion']].to_string(index=False))\n",
    "\n",
    "# Afficher \n",
    "plt.figure(figsize=(5, 5))\n",
    "plt.pie(df['nombre_utilisations'], \n",
    "        labels=df['Type Forfait'], \n",
    "        autopct='%1.1f%%', \n",
    "        startangle=140,\n",
    "        pctdistance=0.85,\n",
    "        textprops={'fontsize': 10})\n",
    "plt.title(\"Répartition des types de forfaits sur l'ensemble des données\", pad=20)\n",
    "plt.axis('equal')\n",
    "\n",
    "# Ajouter une légende si trop de catégories\n",
    "if len(df) > 5:\n",
    "    plt.legend(df['Type Forfait'], \n",
    "               title=\"Types de forfaits\",\n",
    "               loc=\"center left\",\n",
    "               bbox_to_anchor=(1, 0.5))\n",
    "\n",
    "plt.tight_layout()\n",
    "plt.show()"
   ]
  },
  {
   "cell_type": "markdown",
   "id": "3c22a9b4-61ff-47cd-8e25-795497b6e67c",
   "metadata": {},
   "source": [
    "### 8.2 Répartition de la clientèle par tranche d'ages.\n",
    "\n",
    "#### Observations principales\n",
    "- **Clientèle majoritairement jeune** :\n",
    "  - Les 21-30 ans représentent **75.75%** du total (38.38% + 37.37%)\n",
    "  - Pic particulièrement marqué chez les **21-25 ans** (38.38%)\n",
    "\n",
    "- **Faible représentation** des autres tranches :\n",
    "  - Seulement **5.05%** pour les 17-20 ans\n",
    "  - Moins de **5%** pour chaque tranche au-delà de 31 ans"
   ]
  },
  {
   "cell_type": "code",
   "execution_count": 46,
   "id": "7a7634d2-e184-4eea-aed7-96a2ac3ba91e",
   "metadata": {},
   "outputs": [
    {
     "name": "stdout",
     "output_type": "stream",
     "text": [
      "  age_group  count  percentage\n",
      "0     17-20      5     5.05051\n",
      "1     21-25     38    38.38384\n",
      "2     26-30     37    37.37374\n",
      "3     31-35     13    13.13131\n",
      "4     36-40      4     4.04040\n",
      "5     41-45      1     1.01010\n",
      "6     46-47      1     1.01010\n"
     ]
    },
    {
     "data": {
      "image/png": "[encoded data removed]",
      "text/plain": [
       "<Figure size 500x500 with 1 Axes>"
      ]
     },
     "metadata": {},
     "output_type": "display_data"
    }
   ],
   "source": [
    "query = \"\"\"\n",
    "SELECT\n",
    "    CASE\n",
    "        WHEN age BETWEEN 17 AND 20 THEN '17-20'\n",
    "        WHEN age BETWEEN 21 AND 25 THEN '21-25'\n",
    "        WHEN age BETWEEN 26 AND 30 THEN '26-30'\n",
    "        WHEN age BETWEEN 31 AND 35 THEN '31-35'\n",
    "        WHEN age BETWEEN 36 AND 40 THEN '36-40'\n",
    "        WHEN age BETWEEN 41 AND 45 THEN '41-45'\n",
    "        WHEN age BETWEEN 46 AND 47 THEN '46-47'\n",
    "        ELSE 'Autre'\n",
    "    END AS age_group,\n",
    "    COUNT(*) AS count,\n",
    "    (COUNT(*) * 100.0 / (SELECT COUNT(*) FROM clients WHERE age BETWEEN 17 AND 47)) AS percentage\n",
    "FROM\n",
    "    clients\n",
    "WHERE\n",
    "    age BETWEEN 17 AND 47\n",
    "GROUP BY\n",
    "    age_group\n",
    "ORDER BY\n",
    "    MIN(age);\n",
    "\"\"\"\n",
    "\n",
    "# Exécution de la requête SQL et stockage des résultats dans un DataFrame\n",
    "desertion_ages = pd.read_sql(query, engine)\n",
    "print(desertion_ages)\n",
    "\n",
    "\n",
    "# Vérifier si les colonnes nécessaires existent\n",
    "if 'age_group' in desertion_ages.columns and 'percentage' in desertion_ages.columns:\n",
    "    # Créer le graphique en camembert\n",
    "    plt.figure(figsize=(5, 5))\n",
    "    wedges, texts, autotexts = plt.pie(desertion_ages['percentage'], labels=None, autopct='%1.1f%%', startangle=140)\n",
    "    plt.title('Répartition des clients par tranche d\\'âge')\n",
    "    plt.axis('equal')  # Assure que le camembert est un cercle\n",
    "\n",
    "    # Ajouter une légende\n",
    "    plt.legend(wedges, desertion_ages['age_group'], title=\"Tranches d'âge\", loc=\"center left\", bbox_to_anchor=(1, 0, 0.5, 1))\n",
    "\n",
    "    plt.show()\n",
    "else:\n",
    "    print(\"Les colonnes nécessaires 'age_group' et 'percentage' ne sont pas présentes dans le DataFrame.\")"
   ]
  },
  {
   "cell_type": "markdown",
   "id": "82cb16ed-000c-4779-a473-ebcffa026c16",
   "metadata": {},
   "source": [
    "## Recommandations: \n",
    "\n",
    "### Vigilance Stratégique\n",
    "- **Surveiller** : Taux de fréquentation en baisse sur + de 2 mois\n",
    "- **Anticiper** : Pic de désengagement post-2ème année (cycle observé)\n",
    "\n",
    "### Recommandations Stratégiques pour la Rétention Client Post-9 Mois\n",
    "\n",
    "#### 1. Programme - Abonnement Communautaire \n",
    "**Cible Stratégique** \n",
    "- Clients âgés de 21-25 ans (38,4% du portefeuille)  \n",
    "- Profil type : Étudiants/en début de carrière, sensibles aux interactions sociales  \n",
    "\n",
    "**Mécaniques Clés**  \n",
    "- Pack duo/trío (-20%) => Augmente l'engagement mutuel => Marge réduite compensée par volume  \n",
    "- Soirées \"Climb & Drink\" (partenariats) => Crée un écosystème social => Coût négligeable \n",
    "- Zone lounge exclusive => Fidélise par sentiment d'appartenance => Investissement modéré \n",
    "\n",
    "#### 2. Programme - Fidélisation Haut Niveau  \n",
    "**Cible Stratégique**  \n",
    "- Clients fidèles (9+ mois d'ancienneté)  \n",
    "- En risque de lassitude (fréquentation en baisse)  \n",
    "\n",
    "**Architecture des Avantages**  \n",
    "- Bronze | 9 mois | Mur privé 1h/semaine \n",
    "- Argent | 12 mois | Événement outdoor \n",
    "- Or | 18 mois | Réduction 30% sur 6 mois \n",
    "\n",
    "**Résultat Attendu**  \n",
    "- Réduction de 25% du churn post-9 mois  \n",
    "\n",
    "#### 3. Programme - Fidélisation à Long Terme\n",
    "\n",
    "**Cible Stratégique** \n",
    "- Clients ayant atteint 10-12 mois d'ancienneté\n",
    "- Top 20% des clients en termes de fréquentation\n",
    "- Profils influents (parrains naturels)\n",
    "\n",
    "**Architecture des Avantages**  \n",
    "\n",
    "- **Année 1** | -10% shop => Sentiment de progression \n",
    "- **Année 2** | Accès 24/7 => Statut \"membre hardcore\" \n",
    "- **Année 3** | Programme parrainage (5% cashback) => Valorisation sociale \n",
    "\n",
    "\n",
    "\n",
    "> \"La fidélisation post-12 mois nécessite une approche systémique combinant leviers sociaux et mécaniques de progression.\" — [Paul-Emmanuel Buffe]"
   ]
  },
  {
   "cell_type": "code",
   "execution_count": null,
   "id": "ee058176-62bd-40c5-afc8-fdb9b483269e",
   "metadata": {},
   "outputs": [],
   "source": []
  }
 ],
 "metadata": {
  "kernelspec": {
   "display_name": "Python [conda env:base] *",
   "language": "python",
   "name": "conda-base-py"
  },
  "language_info": {
   "codemirror_mode": {
    "name": "ipython",
    "version": 3
   },
   "file_extension": ".py",
   "mimetype": "text/x-python",
   "name": "python",
   "nbconvert_exporter": "python",
   "pygments_lexer": "ipython3",
   "version": "3.12.3"
  }
 },
 "nbformat": 4,
 "nbformat_minor": 5
}
